{
 "cells": [
  {
   "cell_type": "code",
   "execution_count": null,
   "metadata": {},
   "outputs": [],
   "source": [
    "#!/usr/bin/python3\n",
    "import requests\n",
    "import credentials as creds"
   ]
  },
  {
   "cell_type": "markdown",
   "metadata": {},
   "source": [
    "attempt authenticated session for more bandwidth  \n",
    "https://developer.github.com/v3/search/#rate-limit  \n",
    "username should be printed upon successful authentication"
   ]
  },
  {
   "cell_type": "code",
   "execution_count": null,
   "metadata": {},
   "outputs": [],
   "source": [
    "gh_session = requests.Session()\n",
    "gh_session.auth = (creds.user, creds.token)\n",
    "user_info = gh_session.get(\"https://api.github.com/user\")\n",
    "print(user_info.json()[\"login\"])"
   ]
  },
  {
   "cell_type": "markdown",
   "metadata": {},
   "source": [
    "search for \"new LoginContext\" in java code and sort by descending number of stars  \n",
    "individual results contained in \"items\" attribute  \n",
    "which in turn contains \"repository\" -> \"full_name\"  \n",
    "the repository jsons are stored in a dictionary with unique id as their keys  \n",
    "  \n",
    "after empirical observation, I believe it to be most likely that the sorting parameter does not have any effect"
   ]
  },
  {
   "cell_type": "code",
   "execution_count": null,
   "metadata": {},
   "outputs": [],
   "source": [
    "query_url = 'https://api.github.com/search/code?q=\"new+LoginContext\"+size:1000..1030'#&sort=stars&order=desc'\n",
    "results = gh_session.get(query_url)\n",
    "repos = {}\n",
    "result_size = len(results.json()[\"items\"])\n",
    "print(\"Result Set Size: \" + str(result_size))\n",
    "for item in results.json()[\"items\"]:\n",
    "    repo = item[\"repository\"]\n",
    "    repos[repo[\"id\"]] = repo"
   ]
  },
  {
   "cell_type": "markdown",
   "metadata": {},
   "source": [
    "below is the list of keys in the repository json"
   ]
  },
  {
   "cell_type": "code",
   "execution_count": null,
   "metadata": {},
   "outputs": [],
   "source": [
    "results.json()[\"items\"][0][\"repository\"].keys()"
   ]
  },
  {
   "cell_type": "markdown",
   "metadata": {},
   "source": [
    "result set inspection"
   ]
  },
  {
   "cell_type": "code",
   "execution_count": null,
   "metadata": {},
   "outputs": [],
   "source": [
    "print(\"# of results: %d\" % len(repos))\n",
    "print(\"repository, number of stars\")\n",
    "for key in repos.keys():\n",
    "    repo = repos[key]\n",
    "    num_stars = gh_session.get(\"https://api.github.com/repos/\" + repo[\"full_name\"]).json()[\"stargazers_count\"]\n",
    "    print(repo[\"full_name\"] + \", \" + str(num_stars))"
   ]
  }
 ],
 "metadata": {
  "kernelspec": {
   "display_name": "Python 3",
   "language": "python",
   "name": "python3"
  },
  "language_info": {
   "codemirror_mode": {
    "name": "ipython",
    "version": 3
   },
   "file_extension": ".py",
   "mimetype": "text/x-python",
   "name": "python",
   "nbconvert_exporter": "python",
   "pygments_lexer": "ipython3",
   "version": "3.6.8"
  }
 },
 "nbformat": 4,
 "nbformat_minor": 2
}
